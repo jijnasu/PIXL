{
 "metadata": {
  "language_info": {
   "codemirror_mode": {
    "name": "ipython",
    "version": 3
   },
   "file_extension": ".py",
   "mimetype": "text/x-python",
   "name": "python",
   "nbconvert_exporter": "python",
   "pygments_lexer": "ipython3",
   "version": "3.9.5"
  },
  "orig_nbformat": 4,
  "kernelspec": {
   "name": "python3",
   "display_name": "Python 3.9.5 64-bit"
  },
  "interpreter": {
   "hash": "a651bfc3251b802cab91086308ee7e5912e98d76cc946a8e26d139a283928902"
  }
 },
 "nbformat": 4,
 "nbformat_minor": 2,
 "cells": [
  {
   "cell_type": "code",
   "execution_count": 5,
   "metadata": {},
   "outputs": [],
   "source": [
    "from PIL import Image as img\n",
    "import os\n",
    "import numpy as np\n",
    "import cv2\n",
    "import glob\n",
    "import matplotlib.pyplot as plt\n",
    "\n",
    "from process_data import *\n",
    "from model import *"
   ]
  },
  {
   "cell_type": "code",
   "execution_count": 11,
   "metadata": {},
   "outputs": [],
   "source": [
    "import smtplib\n",
    "from email.message import EmailMessage\n",
    "\n",
    "def email_alert(subject, body , to):\n",
    "    msg= EmailMessage()\n",
    "    msg.set_content(body)\n",
    "    msg['subject'] = subject\n",
    "    # msg['to'] = [to,\"guddu.jijnasu999@gmail.com\"]\n",
    "    msg['to'] = to\n",
    "    \n",
    "\n",
    "    user = \"jyotikrish669@gmail.com\"#email account\n",
    "    msg['from']= user\n",
    "    password = \"bemcgjrfmlzwztgo\"#email id password\n",
    "    server = smtplib.SMTP(\"smtp.gmail.com\", 587)\n",
    "    server.starttls()\n",
    "    server.login(user, password)\n",
    "    server.send_message(msg)\n",
    "    \n",
    "    \n",
    "    server.quit()\n",
    "    \n",
    "email_alert(\"mail subject\",\"mail body\",\"guddu.jijnasu999@gmail.com\")"
   ]
  },
  {
   "cell_type": "code",
   "execution_count": 7,
   "metadata": {},
   "outputs": [],
   "source": [
    "\n",
    "def create_dir(path):\n",
    "    try:\n",
    "        if not os.path.exists(path):\n",
    "            os.makedirs(path)\n",
    "    except OSError:\n",
    "        print(f\"ERROR: creating directory with name {path}\")\n",
    "\n",
    "\n",
    "\n",
    "def save_frame(video_path,save_dir,gap = 15,width=250,height=250):\n",
    "    name = video_path.split(\"\\\\\")[-1].split(\".\")[0]\n",
    "    # name = video_path\n",
    "    save_path = os.path.join(save_dir , name)\n",
    "    create_dir(save_path)\n",
    "    gun_path = os.path.join(save_dir , name, \"detected_guns\")\n",
    "    create_dir(gun_path)\n",
    "    cap=cv2.VideoCapture(video_path)\n",
    "    idx = 0\n",
    "\n",
    "    while True:\n",
    "        ret, frame = cap.read()\n",
    "\n",
    "        if ret == False:\n",
    "            cap.release()\n",
    "            break\n",
    "        if idx % gap ==0:#gap reduces the no. of frames per sec\n",
    "            cv2.imwrite(f\"{save_path}/{name}{idx}.jpg\", frame)\n",
    "\n",
    "            # ================================================================\n",
    "            \n",
    "            gun_img = img.open(f\"{save_path}/{name}{idx}.jpg\")\n",
    "            # shp = np.array(gun_img).shape\n",
    "            # if gun_img.height>=height and gun_img.width>=width and shp[-1]==3:\n",
    "            gun_img = gun_img.resize((width,height))\n",
    "\n",
    "\n",
    "            # gun_img = cv2.resize(frame,(width,height),interpolation=cv2.INTER_AREA)\n",
    "            gun = np.array(gun_img)\n",
    "            gun = gun.flatten().reshape(width*height*3,1)\n",
    "            # print(gun.T)\n",
    "            \n",
    "            theta = np.genfromtxt(\"theta.csv\",delimiter=',').reshape(width*height*3+1,1)\n",
    "            gun = np.vstack((gun,[[1]]))\n",
    "            print(idx,predict(gun/255,theta))\n",
    "            plt.close()\n",
    "            plt.imshow(gun[:-1].reshape(width,height,3))\n",
    "            plt.show()\n",
    "            # ================================================================\n",
    "\n",
    "\n",
    "        idx+=1\n"
   ]
  },
  {
   "cell_type": "code",
   "execution_count": 9,
   "metadata": {},
   "outputs": [],
   "source": [
    "def extract_frames(videos_paths=\"captures\",save_dir=\"frames\",gap=15):\n",
    "    all_videos = glob.glob(videos_paths+\"/*\")\n",
    "    all_extracted = glob.glob(save_dir+\"/*\")\n",
    "    for i,video in enumerate(all_extracted):\n",
    "        all_extracted[i] = video.split(\"\\\\\")[-1]\n",
    "        \n",
    "    for i,video in enumerate(all_videos):\n",
    "        if video.split(\"\\\\\")[-1].split(\".\")[0] in all_extracted:\n",
    "            all_videos[i]=0\n",
    "        \n",
    "    \n",
    "    while 0 in all_videos:\n",
    "        all_videos.remove(0)\n",
    "    # print(len(all_videos),all_videos)\n",
    "    # print(len(all_extracted),all_extracted)\n",
    "\n",
    "    for path in all_videos:\n",
    "        print(path.split(\"\\\\\")[-1])\n",
    "        save_frame(path, save_dir,gap=gap)"
   ]
  },
  {
   "cell_type": "code",
   "execution_count": 10,
   "metadata": {},
   "outputs": [
    {
     "output_type": "stream",
     "name": "stdout",
     "text": [
      "Assassination attempt caught on CCTV.mp4\n",
      "The Assassination.mp4\n",
      "VID-20210630-WA0088.mp4\n"
     ]
    }
   ],
   "source": [
    "extract_frames(gap=20)"
   ]
  },
  {
   "cell_type": "code",
   "execution_count": null,
   "metadata": {},
   "outputs": [],
   "source": []
  }
 ]
}