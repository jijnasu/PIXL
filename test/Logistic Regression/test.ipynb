{
 "metadata": {
  "language_info": {
   "codemirror_mode": {
    "name": "ipython",
    "version": 3
   },
   "file_extension": ".py",
   "mimetype": "text/x-python",
   "name": "python",
   "nbconvert_exporter": "python",
   "pygments_lexer": "ipython3",
   "version": "3.8.3"
  },
  "orig_nbformat": 4,
  "kernelspec": {
   "name": "python3",
   "display_name": "Python 3.8.3 64-bit ('base': conda)"
  },
  "interpreter": {
   "hash": "bedcdfcb761829cc4dea60085e58016abc82a0b563d8ffb2d75cb667e0c9d09e"
  }
 },
 "nbformat": 4,
 "nbformat_minor": 2,
 "cells": [
  {
   "cell_type": "code",
   "execution_count": 24,
   "metadata": {},
   "outputs": [],
   "source": [
    "from PIL import Image as img\n",
    "import numpy as np\n",
    "import pandas as pd\n",
    "import matplotlib.pyplot as plt\n",
    "import os\n",
    "import glob\n",
    "import random\n",
    "import math\n",
    "\n",
    "# local modules\n",
    "# from process_data import *\n",
    "# import process_data as pp\n"
   ]
  },
  {
   "cell_type": "code",
   "execution_count": 39,
   "metadata": {},
   "outputs": [],
   "source": [
    "\n",
    "def resize_rename_img(datafolder=\"raw_data\",target=\"data\",height=250,width=250):\n",
    "    \"\"\"\n",
    "    arguments:\n",
    "        datafolder  : Folder cotaining raw data(images)\n",
    "        target      : Target folder to save prcessed data\n",
    "        height      : Height of image to be saved\n",
    "        width       : Width of image to be saved\n",
    "    result:\n",
    "        -> Cleaning target folder\n",
    "        -> Processing images and saving to target\n",
    "    return:\n",
    "        None\n",
    "    \"\"\"\n",
    "    \n",
    "    # Cleaning target folder\n",
    "    gun_names = glob.glob(f\"{target}\\*.jpeg\")\n",
    "    gun_names += glob.glob(f\"{target}\\*.jpeg\")\n",
    "    for gun in gun_names:\n",
    "        os.unlink(gun)\n",
    "    \n",
    "    # Processing and saving to target\n",
    "    gun_names = glob.glob(f\"{datafolder}\\*.jpeg\")\n",
    "    gun_names += glob.glob(f\"{datafolder}\\*.jpeg\")\n",
    "    i=0\n",
    "    for gun in gun_names[:]:\n",
    "        gun_img = img.open(gun)\n",
    "        shp = np.array(gun_img).shape\n",
    "        if gun_img.height>=height and gun_img.width>=width and shp[-1]==3:\n",
    "            gun_img.resize((width,height)).save(target+\"\\\\gun\"+str(i)+\".jpg\")\n",
    "            i+=1\n",
    "    print(\"Total no of images processed and saved : \",i)\n"
   ]
  },
  {
   "cell_type": "code",
   "execution_count": 41,
   "metadata": {},
   "outputs": [
    {
     "output_type": "stream",
     "name": "stdout",
     "text": [
      "Total no of images processed and saved :  0\n"
     ]
    }
   ],
   "source": [
    "resize_rename_img()"
   ]
  },
  {
   "cell_type": "code",
   "execution_count": null,
   "metadata": {},
   "outputs": [],
   "source": []
  }
 ]
}